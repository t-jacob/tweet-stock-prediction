{
 "cells": [
  {
   "cell_type": "code",
   "execution_count": 92,
   "metadata": {},
   "outputs": [
    {
     "name": "stdout",
     "output_type": "stream",
     "text": [
      "getting tweets before 1330990787472089089\n",
      "...400 tweets downloaded so far\n",
      "getting tweets before 1330130115460812802\n",
      "...600 tweets downloaded so far\n",
      "getting tweets before 1329363842430889983\n",
      "...800 tweets downloaded so far\n",
      "getting tweets before 1328541637656580095\n",
      "...1000 tweets downloaded so far\n",
      "getting tweets before 1327714432324149253\n",
      "...1200 tweets downloaded so far\n",
      "getting tweets before 1326932777938219008\n",
      "...1400 tweets downloaded so far\n",
      "getting tweets before 1326121200737775615\n",
      "...1600 tweets downloaded so far\n",
      "getting tweets before 1325241896202088448\n",
      "...1800 tweets downloaded so far\n",
      "getting tweets before 1324498012559839231\n",
      "...2000 tweets downloaded so far\n",
      "getting tweets before 1323838605824008191\n",
      "...2200 tweets downloaded so far\n",
      "getting tweets before 1323263592813060095\n",
      "...2400 tweets downloaded so far\n",
      "getting tweets before 1322346317172088831\n",
      "...2600 tweets downloaded so far\n",
      "getting tweets before 1321621555806437376\n",
      "...2800 tweets downloaded so far\n",
      "getting tweets before 1320870369566347263\n",
      "...3000 tweets downloaded so far\n",
      "getting tweets before 1319994598425567232\n",
      "...3200 tweets downloaded so far\n",
      "getting tweets before 1319243363766370306\n",
      "...3246 tweets downloaded so far\n",
      "getting tweets before 1319045838606389248\n",
      "...3246 tweets downloaded so far\n"
     ]
    }
   ],
   "source": [
    "import tweepy\n",
    "import TwitterCredentials as keys\n",
    "import pandas as pd\n",
    "\n",
    "auth = tweepy.OAuthHandler(keys.consumer_API_key, keys.consumer_API_secret_key)\n",
    "auth.set_access_token(keys.access_token, keys.access_token_secret)\n",
    "api = tweepy.API(auth, wait_on_rate_limit=True, wait_on_rate_limit_notify=True)\n",
    "\n",
    "screen_name = \"wsj\"\n",
    "#initialize a list to hold all the tweepy Tweets\n",
    "alltweets = []  \n",
    "    \n",
    "#make initial request for most recent tweets (200 is the maximum allowed count)\n",
    "new_tweets = api.user_timeline(screen_name = screen_name,count=200)\n",
    "    \n",
    "#save most recent tweets\n",
    "alltweets.extend(new_tweets)\n",
    "    \n",
    "#save the id of the oldest tweet less one\n",
    "oldest = alltweets[-1].id - 1\n",
    "\n",
    "#keep grabbing tweets until there are no tweets left to grab\n",
    "while len(new_tweets) > 0:\n",
    "    print(f\"getting tweets before {oldest}\")\n",
    "        \n",
    "    #all subsiquent requests use the max_id param to prevent duplicates\n",
    "    new_tweets = api.user_timeline(screen_name = screen_name,count=200,max_id=oldest)\n",
    "        \n",
    "    #save most recent tweets\n",
    "    alltweets.extend(new_tweets)\n",
    "        \n",
    "    #update the id of the oldest tweet less one\n",
    "    oldest = alltweets[-1].id - 1\n",
    "        \n",
    "    print(f\"...{len(alltweets)} tweets downloaded so far\")\n",
    "\n",
    "\n",
    "\n",
    "\n",
    "\n",
    "#cursor objects for each news source\n",
    "#trump = api.user_timeline, screen_name='realDonaldTrump', tweet_mode='extended'\n",
    "\n",
    "#define empty lists to hold each tweet\n",
    "#trumplist = []\n",
    "\n",
    "#store each tweet in the cursor object in the corresponding list\n",
    "#for tweet in trump.items(800):\n",
    "#    trumplist.append(tweet)\n",
    "    \n",
    "#store data as a data frame\n",
    "#df = pd.DataFrame({\"realDonaldTrump\": trumplist})"
   ]
  },
  {
   "cell_type": "code",
   "execution_count": 111,
   "metadata": {},
   "outputs": [
    {
     "data": {
      "text/html": [
       "<div>\n",
       "<style scoped>\n",
       "    .dataframe tbody tr th:only-of-type {\n",
       "        vertical-align: middle;\n",
       "    }\n",
       "\n",
       "    .dataframe tbody tr th {\n",
       "        vertical-align: top;\n",
       "    }\n",
       "\n",
       "    .dataframe thead th {\n",
       "        text-align: right;\n",
       "    }\n",
       "</style>\n",
       "<table border=\"1\" class=\"dataframe\">\n",
       "  <thead>\n",
       "    <tr style=\"text-align: right;\">\n",
       "      <th></th>\n",
       "      <th>realDonaldTrump</th>\n",
       "    </tr>\n",
       "  </thead>\n",
       "  <tbody>\n",
       "    <tr>\n",
       "      <td>0</td>\n",
       "      <td>Status(_api=&lt;tweepy.api.API object at 0x7f8256...</td>\n",
       "    </tr>\n",
       "    <tr>\n",
       "      <td>1</td>\n",
       "      <td>Status(_api=&lt;tweepy.api.API object at 0x7f8256...</td>\n",
       "    </tr>\n",
       "    <tr>\n",
       "      <td>2</td>\n",
       "      <td>Status(_api=&lt;tweepy.api.API object at 0x7f8256...</td>\n",
       "    </tr>\n",
       "    <tr>\n",
       "      <td>3</td>\n",
       "      <td>Status(_api=&lt;tweepy.api.API object at 0x7f8256...</td>\n",
       "    </tr>\n",
       "    <tr>\n",
       "      <td>4</td>\n",
       "      <td>Status(_api=&lt;tweepy.api.API object at 0x7f8256...</td>\n",
       "    </tr>\n",
       "    <tr>\n",
       "      <td>...</td>\n",
       "      <td>...</td>\n",
       "    </tr>\n",
       "    <tr>\n",
       "      <td>3241</td>\n",
       "      <td>Status(_api=&lt;tweepy.api.API object at 0x7f8256...</td>\n",
       "    </tr>\n",
       "    <tr>\n",
       "      <td>3242</td>\n",
       "      <td>Status(_api=&lt;tweepy.api.API object at 0x7f8256...</td>\n",
       "    </tr>\n",
       "    <tr>\n",
       "      <td>3243</td>\n",
       "      <td>Status(_api=&lt;tweepy.api.API object at 0x7f8256...</td>\n",
       "    </tr>\n",
       "    <tr>\n",
       "      <td>3244</td>\n",
       "      <td>Status(_api=&lt;tweepy.api.API object at 0x7f8256...</td>\n",
       "    </tr>\n",
       "    <tr>\n",
       "      <td>3245</td>\n",
       "      <td>Status(_api=&lt;tweepy.api.API object at 0x7f8256...</td>\n",
       "    </tr>\n",
       "  </tbody>\n",
       "</table>\n",
       "<p>3246 rows × 1 columns</p>\n",
       "</div>"
      ],
      "text/plain": [
       "                                        realDonaldTrump\n",
       "0     Status(_api=<tweepy.api.API object at 0x7f8256...\n",
       "1     Status(_api=<tweepy.api.API object at 0x7f8256...\n",
       "2     Status(_api=<tweepy.api.API object at 0x7f8256...\n",
       "3     Status(_api=<tweepy.api.API object at 0x7f8256...\n",
       "4     Status(_api=<tweepy.api.API object at 0x7f8256...\n",
       "...                                                 ...\n",
       "3241  Status(_api=<tweepy.api.API object at 0x7f8256...\n",
       "3242  Status(_api=<tweepy.api.API object at 0x7f8256...\n",
       "3243  Status(_api=<tweepy.api.API object at 0x7f8256...\n",
       "3244  Status(_api=<tweepy.api.API object at 0x7f8256...\n",
       "3245  Status(_api=<tweepy.api.API object at 0x7f8256...\n",
       "\n",
       "[3246 rows x 1 columns]"
      ]
     },
     "execution_count": 111,
     "metadata": {},
     "output_type": "execute_result"
    }
   ],
   "source": [
    "df = pd.DataFrame({\"realDonaldTrump\": alltweets})\n",
    "df"
   ]
  },
  {
   "cell_type": "code",
   "execution_count": 112,
   "metadata": {},
   "outputs": [],
   "source": [
    "import nltk  \n",
    "import numpy as np  \n",
    "import random  \n",
    "import string\n",
    "import bs4 as bs  \n",
    "import urllib.request  \n",
    "import re\n",
    " "
   ]
  },
  {
   "cell_type": "code",
   "execution_count": 113,
   "metadata": {},
   "outputs": [],
   "source": [
    "#function to convert the tweepy object to text\n",
    "def totext(tweet):\n",
    "    return tweet.text\n",
    "\n",
    "#define new data frame to hold texts of tweets\n",
    "dfnew = pd.DataFrame({\"realDonaldTrump\": []})\n",
    "\n",
    "#map above function to each column in df\n",
    "dfnew[\"realDonaldTrump\"] = df[\"realDonaldTrump\"].map(totext)"
   ]
  },
  {
   "cell_type": "code",
   "execution_count": 130,
   "metadata": {
    "scrolled": true
   },
   "outputs": [
    {
     "data": {
      "text/html": [
       "<div>\n",
       "<style scoped>\n",
       "    .dataframe tbody tr th:only-of-type {\n",
       "        vertical-align: middle;\n",
       "    }\n",
       "\n",
       "    .dataframe tbody tr th {\n",
       "        vertical-align: top;\n",
       "    }\n",
       "\n",
       "    .dataframe thead th {\n",
       "        text-align: right;\n",
       "    }\n",
       "</style>\n",
       "<table border=\"1\" class=\"dataframe\">\n",
       "  <thead>\n",
       "    <tr style=\"text-align: right;\">\n",
       "      <th></th>\n",
       "      <th>realDonaldTrump</th>\n",
       "    </tr>\n",
       "  </thead>\n",
       "  <tbody>\n",
       "    <tr>\n",
       "      <td>0</td>\n",
       "      <td>While air travel has been down compared with l...</td>\n",
       "    </tr>\n",
       "    <tr>\n",
       "      <td>1</td>\n",
       "      <td>As college basketball season tips off, coaches...</td>\n",
       "    </tr>\n",
       "    <tr>\n",
       "      <td>2</td>\n",
       "      <td>RT @WSJCustom: Paid Program with Metapack: As ...</td>\n",
       "    </tr>\n",
       "    <tr>\n",
       "      <td>3</td>\n",
       "      <td>Ethiopia’s restive Tigray region faces a decis...</td>\n",
       "    </tr>\n",
       "    <tr>\n",
       "      <td>4</td>\n",
       "      <td>National Rifle Association disclosed that curr...</td>\n",
       "    </tr>\n",
       "    <tr>\n",
       "      <td>...</td>\n",
       "      <td>...</td>\n",
       "    </tr>\n",
       "    <tr>\n",
       "      <td>3241</td>\n",
       "      <td>Six U.S. airlines have banned nearly 1,500 peo...</td>\n",
       "    </tr>\n",
       "    <tr>\n",
       "      <td>3242</td>\n",
       "      <td>After the first presidential debate, President...</td>\n",
       "    </tr>\n",
       "    <tr>\n",
       "      <td>3243</td>\n",
       "      <td>TikTok has grown to rival the world’s biggest ...</td>\n",
       "    </tr>\n",
       "    <tr>\n",
       "      <td>3244</td>\n",
       "      <td>Friends worry the high price will only deepen ...</td>\n",
       "    </tr>\n",
       "    <tr>\n",
       "      <td>3245</td>\n",
       "      <td>President Emmanuel Macron led a national tribu...</td>\n",
       "    </tr>\n",
       "  </tbody>\n",
       "</table>\n",
       "<p>3246 rows × 1 columns</p>\n",
       "</div>"
      ],
      "text/plain": [
       "                                        realDonaldTrump\n",
       "0     While air travel has been down compared with l...\n",
       "1     As college basketball season tips off, coaches...\n",
       "2     RT @WSJCustom: Paid Program with Metapack: As ...\n",
       "3     Ethiopia’s restive Tigray region faces a decis...\n",
       "4     National Rifle Association disclosed that curr...\n",
       "...                                                 ...\n",
       "3241  Six U.S. airlines have banned nearly 1,500 peo...\n",
       "3242  After the first presidential debate, President...\n",
       "3243  TikTok has grown to rival the world’s biggest ...\n",
       "3244  Friends worry the high price will only deepen ...\n",
       "3245  President Emmanuel Macron led a national tribu...\n",
       "\n",
       "[3246 rows x 1 columns]"
      ]
     },
     "execution_count": 130,
     "metadata": {},
     "output_type": "execute_result"
    }
   ],
   "source": [
    "dfnew"
   ]
  },
  {
   "cell_type": "code",
   "execution_count": 142,
   "metadata": {},
   "outputs": [
    {
     "name": "stdout",
     "output_type": "stream",
     "text": [
      "372\n"
     ]
    }
   ],
   "source": [
    "tot = set()\n",
    "all_topics = [\"job\", \"economy\", \"trade\", \"market\", \"stock\", \"DJIA\", \"NASDAQ\", \"price\", \"jobs\", \"employed\", \"unemployed\", \"employment\", \"unemployment\", \"stock exchange\", \"bull\", \"bear\", \"market\", \"new york stock exchange\", \"shares\", \"financials\", \"taxes\", \"companies\", \"tax\", \"economic\"]\n",
    "for idx, row in dfnew.iterrows():\n",
    "    corpus = nltk.sent_tokenize(row.values[0])\n",
    "    for i in range(len(corpus)):\n",
    "        corpus[i] = corpus[i].lower()\n",
    "        corpus[i] = re.sub(r'\\W',' ',corpus[i])\n",
    "        corpus[i] = re.sub(r'\\s+',' ',corpus[i])\n",
    "        corpus[i] = re.sub(r\"http\\S+\", \"\", corpus[i])\n",
    "        corpus[i] = re.sub(r'\\w*\\d\\w*', '', corpus[i]).strip()\n",
    "        for topic in all_topics:\n",
    "            if topic in corpus[i]:\n",
    "                tot.add(corpus[i])\n",
    "print(len(tot))"
   ]
  },
  {
   "cell_type": "code",
   "execution_count": 143,
   "metadata": {},
   "outputs": [],
   "source": [
    "wordfreq = {}\n",
    "for sentence in tot:\n",
    "    tokens = nltk.word_tokenize(sentence)\n",
    "    for token in tokens:\n",
    "        if token not in wordfreq.keys():\n",
    "            wordfreq[token] = 1\n",
    "        else:\n",
    "            wordfreq[token] += 1"
   ]
  },
  {
   "cell_type": "code",
   "execution_count": 151,
   "metadata": {},
   "outputs": [
    {
     "name": "stdout",
     "output_type": "stream",
     "text": [
      "['i', 'me', 'my', 'myself', 'we', 'our', 'ours', 'ourselves', 'you', \"you're\", \"you've\", \"you'll\", \"you'd\", 'your', 'yours', 'yourself', 'yourselves', 'he', 'him', 'his', 'himself', 'she', \"she's\", 'her', 'hers', 'herself', 'it', \"it's\", 'its', 'itself', 'they', 'them', 'their', 'theirs', 'themselves', 'what', 'which', 'who', 'whom', 'this', 'that', \"that'll\", 'these', 'those', 'am', 'is', 'are', 'was', 'were', 'be', 'been', 'being', 'have', 'has', 'had', 'having', 'do', 'does', 'did', 'doing', 'a', 'an', 'the', 'and', 'but', 'if', 'or', 'because', 'as', 'until', 'while', 'of', 'at', 'by', 'for', 'with', 'about', 'against', 'between', 'into', 'through', 'during', 'before', 'after', 'above', 'below', 'to', 'from', 'up', 'down', 'in', 'out', 'on', 'off', 'over', 'under', 'again', 'further', 'then', 'once', 'here', 'there', 'when', 'where', 'why', 'how', 'all', 'any', 'both', 'each', 'few', 'more', 'most', 'other', 'some', 'such', 'no', 'nor', 'not', 'only', 'own', 'same', 'so', 'than', 'too', 'very', 's', 't', 'can', 'will', 'just', 'don', \"don't\", 'should', \"should've\", 'now', 'd', 'll', 'm', 'o', 're', 've', 'y', 'ain', 'aren', \"aren't\", 'couldn', \"couldn't\", 'didn', \"didn't\", 'doesn', \"doesn't\", 'hadn', \"hadn't\", 'hasn', \"hasn't\", 'haven', \"haven't\", 'isn', \"isn't\", 'ma', 'mightn', \"mightn't\", 'mustn', \"mustn't\", 'needn', \"needn't\", 'shan', \"shan't\", 'shouldn', \"shouldn't\", 'wasn', \"wasn't\", 'weren', \"weren't\", 'won', \"won't\", 'wouldn', \"wouldn't\"]\n"
     ]
    },
    {
     "name": "stderr",
     "output_type": "stream",
     "text": [
      "[nltk_data] Downloading package stopwords to\n",
      "[nltk_data]     /Users/vpathalam/nltk_data...\n",
      "[nltk_data]   Package stopwords is already up-to-date!\n"
     ]
    }
   ],
   "source": [
    "from nltk.corpus import stopwords\n",
    "nltk.download('stopwords')\n",
    "print(stopwords.words('english'))"
   ]
  },
  {
   "cell_type": "code",
   "execution_count": 158,
   "metadata": {},
   "outputs": [
    {
     "data": {
      "text/plain": [
       "1866"
      ]
     },
     "execution_count": 158,
     "metadata": {},
     "output_type": "execute_result"
    }
   ],
   "source": [
    "for w in set(stopwords.words('english'))  :\n",
    "    if str(w) in wordfreq:\n",
    "        del wordfreq[str(w)]\n",
    "#del wordfreq['co']\n",
    "#del wordfreq['u']\n",
    "#del wordfreq['trump']\n",
    "#del wordfreq['wsj']\n",
    "#del wordfreq['wsjwhatsnow']\n",
    "len(wordfreq)"
   ]
  },
  {
   "cell_type": "code",
   "execution_count": 167,
   "metadata": {},
   "outputs": [
    {
     "name": "stdout",
     "output_type": "stream",
     "text": [
      "companies: 72\n",
      "market: 44\n",
      "stocks: 42\n",
      "economy: 34\n",
      "pandemic: 33\n",
      "stock: 31\n",
      "economic: 28\n",
      "new: 28\n",
      "markets: 26\n",
      "trade: 21\n",
      "covid: 21\n",
      "investors: 20\n",
      "president: 19\n",
      "coronavirus: 19\n",
      "week: 18\n",
      "prices: 17\n",
      "election: 17\n",
      "biden: 16\n",
      "fell: 16\n",
      "could: 15\n"
     ]
    }
   ],
   "source": [
    "from collections import Counter\n",
    "d = Counter(wordfreq)\n",
    "newdict = {}\n",
    "for k, v in d.most_common(20):\n",
    "    print('%s: %i' % (k, v))\n",
    "    newdict[k] = v"
   ]
  },
  {
   "cell_type": "code",
   "execution_count": 173,
   "metadata": {},
   "outputs": [
    {
     "data": {
      "image/png": "[encoded data removed]",
      "text/plain": [
       "<Figure size 432x288 with 1 Axes>"
      ]
     },
     "metadata": {
      "needs_background": "light"
     },
     "output_type": "display_data"
    },
    {
     "data": {
      "text/plain": [
       "<Figure size 432x288 with 0 Axes>"
      ]
     },
     "metadata": {},
     "output_type": "display_data"
    }
   ],
   "source": [
    "import matplotlib.pyplot as plt\n",
    "\n",
    "plt.bar(range(len(newdict)), list(newdict.values()), align='center')\n",
    "plt.xticks(range(len(newdict)), list(newdict.keys()))\n",
    "plt.xticks(rotation=45)\n",
    "plt.show()\n",
    "plt.savefig('commonwords2.png')"
   ]
  },
  {
   "cell_type": "code",
   "execution_count": 162,
   "metadata": {},
   "outputs": [
    {
     "data": {
      "image/png": "[encoded data removed]",
      "text/plain": [
       "<Figure size 432x288 with 1 Axes>"
      ]
     },
     "metadata": {
      "needs_background": "light"
     },
     "output_type": "display_data"
    }
   ],
   "source": [
    "from PIL import Image\n",
    "import matplotlib.pyplot as plt\n",
    "from wordcloud import WordCloud\n",
    "\n",
    "wc = WordCloud(background_color=\"white\",width=1000,height=1000, max_words=20,relative_scaling=0.5,normalize_plurals=False).generate_from_frequencies(wordfreq)\n",
    "plt.imshow(wc)\n",
    "plt.savefig('wordcloud.png')"
   ]
  },
  {
   "cell_type": "code",
   "execution_count": null,
   "metadata": {},
   "outputs": [],
   "source": []
  }
 ],
 "metadata": {
  "kernelspec": {
   "display_name": "Python 3",
   "language": "python",
   "name": "python3"
  },
  "language_info": {
   "codemirror_mode": {
    "name": "ipython",
    "version": 3
   },
   "file_extension": ".py",
   "mimetype": "text/x-python",
   "name": "python",
   "nbconvert_exporter": "python",
   "pygments_lexer": "ipython3",
   "version": "3.7.4"
  }
 },
 "nbformat": 4,
 "nbformat_minor": 2
}
